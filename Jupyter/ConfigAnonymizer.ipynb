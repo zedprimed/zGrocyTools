{
 "cells": [
  {
   "cell_type": "code",
   "execution_count": null,
   "id": "d0fb5f51-589b-4edc-89ef-e50f80119572",
   "metadata": {},
   "outputs": [],
   "source": [
    "import json\n",
    "#load a local config and anonymize it to a template config\n",
    "fh = open('localEnv.json','r')\n",
    "config = json.load(fh)\n",
    "fh.close\n",
    "\n",
    "#anonymize google\n",
    "config['GoogleAPI']['credentials'] = {}\n",
    "for spreadsheet in config['GoogleAPI']['Sheets']:\n",
    "    config['GoogleAPI']['Sheets'][spreadsheet]['spreadsheetId'] = \"\"\n",
    "    for sheet in config['GoogleAPI']['Sheets'][spreadsheet]['sheets']:\n",
    "        config['GoogleAPI']['Sheets'][spreadsheet]['sheets'][sheet] = 0\n",
    "config['GoogleAPI']['token'] = {}\n",
    "\n",
    "#anonymize local API data\n",
    "config['LocalUser']['APIKey'] = \"Valid Grocy APIKey goes here\"\n",
    "config['LocalUser']['URL Root'] = \"http://localhost:8080\"\n",
    "\n",
    "fh = open('exmplEnv.json',\"w\")\n",
    "json.dump(config,fh)\n",
    "fh.close()"
   ]
  },
  {
   "cell_type": "code",
   "execution_count": null,
   "id": "05f93193-4270-4193-8e6e-5f899788a72b",
   "metadata": {},
   "outputs": [],
   "source": []
  }
 ],
 "metadata": {
  "kernelspec": {
   "display_name": "Python 3 (ipykernel)",
   "language": "python",
   "name": "python3"
  },
  "language_info": {
   "codemirror_mode": {
    "name": "ipython",
    "version": 3
   },
   "file_extension": ".py",
   "mimetype": "text/x-python",
   "name": "python",
   "nbconvert_exporter": "python",
   "pygments_lexer": "ipython3",
   "version": "3.12.5"
  }
 },
 "nbformat": 4,
 "nbformat_minor": 5
}
