{
 "cells": [
  {
   "cell_type": "markdown",
   "id": "a97518dd-01a7-403f-ae65-165746fee77a",
   "metadata": {},
   "source": [
    "# Put Product Data Batch\n",
    "For existing products, put API new values in based on BatchUpload products sheet\n",
    "When doing put, this works best using the Get workflow to prepopulate the set you want to change"
   ]
  },
  {
   "cell_type": "code",
   "execution_count": null,
   "id": "2fb3b29c-5985-469a-89a1-f685f20cd4b2",
   "metadata": {},
   "outputs": [],
   "source": [
    "import common\n",
    "import json\n",
    "import pandas as pd\n",
    "logging = common.start_logger(\"PutProductDataBatch\",'DEBUG')\n",
    "creds = common.GoogleOAuth()\n",
    "common.GrConf()\n",
    "sheetname = 'products'\n",
    "spreadsheetId = common.CONF.sheets['BatchUpload']['spreadsheetId']\n",
    "manualVerify = True #switch for debugging/checking certain results before post"
   ]
  },
  {
   "cell_type": "code",
   "execution_count": null,
   "id": "e7a9ca18-d7ed-4749-a8ab-69d3942b7594",
   "metadata": {},
   "outputs": [],
   "source": [
    "#get an example product for the header\n",
    "productexampleCaller = common.GrGetAPI('Objects','products')\n",
    "productexampleCaller.buildParam(\"active=1\")\n",
    "productexampleCaller.get()\n",
    "example = productexampleCaller.r.json()\n",
    "\n",
    "\n",
    "target = example[0]\n",
    "#expand user fields\n",
    "try:\n",
    "    customfields = target['userfields'].pop()\n",
    "    for field in customfields:\n",
    "        example[field] = target[field]\n",
    "except:\n",
    "    pass\n",
    "#get data for validations\n",
    "alias_dict,md_cache,headerdef = common.CONF.cache_header_values(target,ordering=False)"
   ]
  },
  {
   "cell_type": "code",
   "execution_count": null,
   "id": "b5218db1-e008-4813-8273-e236fbdc8016",
   "metadata": {},
   "outputs": [],
   "source": []
  },
  {
   "cell_type": "code",
   "execution_count": null,
   "id": "7350aea2-d151-46b4-9f11-c8e09c264cad",
   "metadata": {},
   "outputs": [],
   "source": []
  }
 ],
 "metadata": {
  "kernelspec": {
   "display_name": "Python 3 (ipykernel)",
   "language": "python",
   "name": "python3"
  },
  "language_info": {
   "codemirror_mode": {
    "name": "ipython",
    "version": 3
   },
   "file_extension": ".py",
   "mimetype": "text/x-python",
   "name": "python",
   "nbconvert_exporter": "python",
   "pygments_lexer": "ipython3",
   "version": "3.12.5"
  }
 },
 "nbformat": 4,
 "nbformat_minor": 5
}
