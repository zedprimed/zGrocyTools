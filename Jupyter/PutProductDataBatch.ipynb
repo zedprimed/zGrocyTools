{
 "cells": [
  {
   "cell_type": "markdown",
   "id": "a97518dd-01a7-403f-ae65-165746fee77a",
   "metadata": {},
   "source": [
    "# Put Product Data Batch\n",
    "For existing products, put API new values in based on BatchUpload products sheet\n",
    "When doing put, this works best using the Get workflow to prepopulate the set you want to change"
   ]
  },
  {
   "cell_type": "code",
   "execution_count": null,
   "id": "2fb3b29c-5985-469a-89a1-f685f20cd4b2",
   "metadata": {},
   "outputs": [],
   "source": [
    "import common\n",
    "import json\n",
    "import pandas as pd\n",
    "logging = common.start_logger(\"PutProductDataBatch\",'DEBUG')\n",
    "creds = common.GoogleOAuth()\n",
    "common.GrConf(\"PutProductDataBatch\")\n",
    "sheetname = 'products'\n",
    "sheetId = common.CONF.sheets['BatchUpload']['sheets'][sheetname]\n",
    "spreadsheetId = common.CONF.sheets['BatchUpload']['spreadsheetId']\n",
    "manualVerify = True #switch for debugging/checking certain results before post"
   ]
  },
  {
   "cell_type": "code",
   "execution_count": null,
   "id": "e7a9ca18-d7ed-4749-a8ab-69d3942b7594",
   "metadata": {},
   "outputs": [],
   "source": [
    "#get an example product for the header\n",
    "productexampleCaller = common.GrGetAPI('Objects','products')\n",
    "productexampleCaller.buildParam(\"active=1\")\n",
    "productexampleCaller.buildFreeParam(\n",
    "    {\"limit\":1}\n",
    ")\n",
    "productexampleCaller.get()\n",
    "example = productexampleCaller.r.json()\n",
    "\n",
    "\n",
    "target = example[0]\n",
    "#expand user fields\n",
    "#try:\n",
    "customfields = target.pop('userfields')\n",
    "for field in customfields:\n",
    "    target[field] = customfields[field]\n",
    "#except:\n",
    "#    pass\n",
    "#get data for validations\n",
    "alias_dict,md_cache,headerdef = common.CONF.cache_header_values(target,ordering=False)\n",
    "\n",
    "#prepare columns with input validation\n",
    "#pull the sheet to the front\n",
    "common.refresh_activate_sheet(creds,spreadsheetId,sheetId,alias_dict,headerdef,logger=logging)"
   ]
  }
 ],
 "metadata": {
  "kernelspec": {
   "display_name": "Python 3 (ipykernel)",
   "language": "python",
   "name": "python3"
  },
  "language_info": {
   "codemirror_mode": {
    "name": "ipython",
    "version": 3
   },
   "file_extension": ".py",
   "mimetype": "text/x-python",
   "name": "python",
   "nbconvert_exporter": "python",
   "pygments_lexer": "ipython3",
   "version": "3.12.5"
  }
 },
 "nbformat": 4,
 "nbformat_minor": 5
}
