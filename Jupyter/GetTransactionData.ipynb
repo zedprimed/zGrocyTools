{
 "cells": [
  {
   "cell_type": "markdown",
   "id": "ec72b145-a6b5-46a6-a3bf-74382b1d4df3",
   "metadata": {},
   "source": [
    "# Init"
   ]
  },
  {
   "cell_type": "code",
   "execution_count": null,
   "id": "05e18675-ca6e-46db-be23-602b0abc0f7c",
   "metadata": {
    "editable": true,
    "slideshow": {
     "slide_type": ""
    },
    "tags": []
   },
   "outputs": [],
   "source": [
    "import requests\n",
    "import json\n",
    "import common\n",
    "import os\n",
    "CONF = common.GrConf()\n",
    "txCaller = common.GrGetAPI(CONF,'stock_log')"
   ]
  },
  {
   "cell_type": "markdown",
   "id": "7967a707-2255-46e6-8ee2-9787955a0831",
   "metadata": {
    "editable": true,
    "slideshow": {
     "slide_type": ""
    },
    "tags": []
   },
   "source": [
    "# Workflow to import Grocy transaction data\n",
    "User input to get transaction window and then call"
   ]
  },
  {
   "cell_type": "code",
   "execution_count": null,
   "id": "9283bd15-85e2-4313-99c9-873eb9a19a5d",
   "metadata": {},
   "outputs": [],
   "source": [
    "startDate = input('Enter start date YYYY-MM-DD')\n",
    "timeQuery = input(\"Enter start time (UTC) or blank for 00:00:00\")\n",
    "if timeQuery:\n",
    "    startTime = timeQuery\n",
    "\n",
    "else:\n",
    "    startTime = '00:00:00'\n",
    "\n",
    "#To do, end time\n",
    "timeParam = startDate+\" \"+startTime\n",
    "print(timeParam)"
   ]
  },
  {
   "cell_type": "code",
   "execution_count": null,
   "id": "69056e9a-5a05-46e9-ae4d-91d8a1affd2c",
   "metadata": {
    "editable": true,
    "slideshow": {
     "slide_type": ""
    },
    "tags": []
   },
   "outputs": [],
   "source": [
    "txCaller.buildParam(\"row_created_timestamp>=\"+timeParam)\n",
    "\n",
    "txCaller.call()\n",
    "r=txCaller.r\n",
    "if not \"200\" in str(r):\n",
    "    print(f'Call failed :( Error:{str(r)}')\n",
    "else:\n",
    "    print('Success')"
   ]
  },
  {
   "cell_type": "markdown",
   "id": "c9fd248a-8fda-4581-97bc-e3bb44b219b4",
   "metadata": {
    "editable": true,
    "slideshow": {
     "slide_type": ""
    },
    "tags": []
   },
   "source": [
    "# Save offline copy (limited to success) to implement"
   ]
  },
  {
   "cell_type": "code",
   "execution_count": null,
   "id": "bc0b918f-4df2-4fdc-8420-c1e2f05e8af0",
   "metadata": {
    "editable": true,
    "slideshow": {
     "slide_type": ""
    },
    "tags": []
   },
   "outputs": [],
   "source": [
    "if \"200\" in str(r):\n",
    "    resp = input('Confirm save offline copy?')\n",
    "    if \"y\" in resp or \"Y\" in resp:        \n",
    "        if os.path.exists(\"localgrocyTxdata.json\"):\n",
    "            record=open(\"localgrocyTxdata.json\",mode=\"w\")\n",
    "        else:\n",
    "            record=open(\"localgrocyTxdata.json\",mode=\"x\")\n",
    "\n",
    "        json.dump(r.json(),record)\n",
    "        record.close()\n",
    "        print(\"localgrocyTxdata.json was saved\")"
   ]
  },
  {
   "cell_type": "markdown",
   "id": "ddd7d254-4268-4a28-9fc2-165c48c1a3a4",
   "metadata": {},
   "source": [
    "# Mapping\n",
    "Loop through the relevant interfaces that provide names to IDs\n",
    "Todo: adapt this to also save the mapping locally for building mass uploads if needed"
   ]
  },
  {
   "cell_type": "code",
   "execution_count": null,
   "id": "15006e39-e468-42de-9d59-b4810a02fc28",
   "metadata": {},
   "outputs": [],
   "source": [
    "callThese = ['products','locations','shopping_locations','users']\n",
    "columnMap = {'products':['product_id'],\n",
    "             'locations':['location_id'],\n",
    "             'shopping_locations':['shopping_location_id'],\n",
    "             'users':['user_id']}\n",
    "paramMap = {'products':\"active=1\",\n",
    "             'locations':\"active=1\",\n",
    "             'shopping_locations':\"active=1\",\n",
    "             'users':\"\"}\n",
    "sourceMap = {'products':\"name\",\n",
    "             'locations':\"name\",\n",
    "             'shopping_locations':\"name\",\n",
    "             'users':\"username\"}\n",
    "\n",
    "rjson = r.json()\n",
    "for a in callThese:\n",
    "\n",
    "    iterCaller = common.GrGetAPI(CONF,a)\n",
    "    if paramMap[a]:\n",
    "        iterCaller.buildParam(paramMap[a])\n",
    "    iterCaller.call()\n",
    "    if \"200\" not in str(iterCaller.r):\n",
    "        print(a+' API failure')\n",
    "        print(iterCaller.r.url)\n",
    "\n",
    "\n",
    "# Join the API calls so far into one rjson master file\n",
    "\n",
    "    for x in rjson:\n",
    "        for y in iterCaller.r.json():\n",
    "                for z in range(len(columnMap[a])):\n",
    "                    #print(z)\n",
    "                    #print(columnMap[a])\n",
    "                    #print(columnMap[a][z])\n",
    "                    #print(x['location_id'])\n",
    "                    if x[columnMap[a][z]] == y['id']:\n",
    "                        x[columnMap[a][z]] = y[sourceMap[a]]\n",
    "                        \n"
   ]
  },
  {
   "cell_type": "markdown",
   "id": "12801e77-9244-4066-87c0-ecb34fc9a10d",
   "metadata": {},
   "source": [
    "# Tabulate Data\n",
    "Input response to DataFrame & Display as an ITable"
   ]
  },
  {
   "cell_type": "code",
   "execution_count": null,
   "id": "524b1c47-dd39-4cb2-94fa-05c3a4bf9c97",
   "metadata": {
    "editable": true,
    "slideshow": {
     "slide_type": ""
    },
    "tags": []
   },
   "outputs": [],
   "source": [
    "import pandas\n",
    "import io\n",
    "import dateutil\n",
    "from itables import init_notebook_mode\n",
    "from itables import show\n",
    "\n",
    "\n",
    "init_notebook_mode(all_interactive=True)\n",
    "txFrame = pandas.DataFrame(rjson)\n",
    "# Todo: timestamps are important here. Convert to np times and convert UTC to local\n",
    "\n",
    "txFrame['row_created_timestamp'] = pandas.to_datetime(txFrame['row_created_timestamp'],utc=True)\n",
    "txFrame['row_created_timestamp'] = txFrame['row_created_timestamp'].dt.tz_convert(CONF.tz)\n",
    "\n",
    "show(txFrame,buttons=[\"copyHtml5\", \"csvHtml5\", \"excelHtml5\"])"
   ]
  }
 ],
 "metadata": {
  "kernelspec": {
   "display_name": "Python 3 (ipykernel)",
   "language": "python",
   "name": "python3"
  },
  "language_info": {
   "codemirror_mode": {
    "name": "ipython",
    "version": 3
   },
   "file_extension": ".py",
   "mimetype": "text/x-python",
   "name": "python",
   "nbconvert_exporter": "python",
   "pygments_lexer": "ipython3",
   "version": "3.12.5"
  }
 },
 "nbformat": 4,
 "nbformat_minor": 5
}
