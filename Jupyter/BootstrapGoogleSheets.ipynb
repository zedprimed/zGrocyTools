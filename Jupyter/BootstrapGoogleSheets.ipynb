{
 "cells": [
  {
   "cell_type": "markdown",
   "id": "03ab23a5-55bc-4eeb-8a03-edc1fa7fabef",
   "metadata": {},
   "source": [
    "Creates the scaffold of Google sheets needed for functionalities  \n",
    "Because of Google's scopes, even if you want to maintain these manually they at least need created by the API  \n",
    "This will create them and save the spreadsheet ID in config, and create all the sheet names I am expecting\n",
    "Because of Google's Sheets API vs Drive API support, you can create the sheets here and file them away in your Drive where you want - they will always create in root\n",
    "Spreadsheets:  \n",
    "1. LocalMasterData\n",
    "2. LocalTxData\n",
    "3. BatchUpload\n",
    "\n",
    "Connections need to be allowed the first time you load some sheets in the web interface ex. to get LocalMasterData in BatchUpload to use Data Validation to assist in entry"
   ]
  },
  {
   "cell_type": "code",
   "execution_count": null,
   "id": "b4d67c80-8621-493c-bb2e-36e5e753812b",
   "metadata": {},
   "outputs": [],
   "source": [
    "import common\n",
    "import json\n",
    "creds = common.GoogleOAuth()"
   ]
  },
  {
   "cell_type": "code",
   "execution_count": null,
   "id": "94500bf2-9c46-400f-9672-69fd53be7802",
   "metadata": {},
   "outputs": [],
   "source": [
    "#Create the 3 sheets and save them to config\n",
    "mani = ['LocalMasterData','LocalTxData','BatchUpload']\n",
    "sheets = {}\n",
    "for x in mani:\n",
    "    sheet = common.create(x,creds)\n",
    "    sheets[x]=sheet\n",
    "\n",
    "inputJSON = {'SheetIDs':sheets}"
   ]
  },
  {
   "cell_type": "code",
   "execution_count": null,
   "id": "529272d9-34c1-49cc-8c02-8a35d40caf46",
   "metadata": {},
   "outputs": [],
   "source": [
    "file = json.load(open('localEnv.json','r'))\n",
    "file['GoogleAPI']['SheetIDs']=sheets\n",
    "\n",
    "write = open('localEnv.json','w')\n",
    "json.dump(file,write)\n",
    "write.close()"
   ]
  },
  {
   "cell_type": "markdown",
   "id": "ac1ab449-bb8d-43a3-8c89-845796431132",
   "metadata": {},
   "source": [
    "With the spreadsheet IDs in the config, create the sheets needed in each"
   ]
  },
  {
   "cell_type": "code",
   "execution_count": null,
   "id": "da8e74b9-a37e-41e3-82c1-ae82f7ebfa83",
   "metadata": {},
   "outputs": [],
   "source": []
  }
 ],
 "metadata": {
  "kernelspec": {
   "display_name": "Python 3 (ipykernel)",
   "language": "python",
   "name": "python3"
  },
  "language_info": {
   "codemirror_mode": {
    "name": "ipython",
    "version": 3
   },
   "file_extension": ".py",
   "mimetype": "text/x-python",
   "name": "python",
   "nbconvert_exporter": "python",
   "pygments_lexer": "ipython3",
   "version": "3.12.5"
  }
 },
 "nbformat": 4,
 "nbformat_minor": 5
}
