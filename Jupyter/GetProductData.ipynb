{
 "cells": [
  {
   "cell_type": "markdown",
   "id": "7967a707-2255-46e6-8ee2-9787955a0831",
   "metadata": {},
   "source": [
    "# Workflow to import Grocy product data\n",
    "1. Use requests module for HTTP activity\n",
    "2. Define API info\n",
    "3. Enter secret at runtime **Todo: environment variables etc**\n",
    "4. Save results to a JSON in the Jupyter notebook scope if requested\n",
    "\n",
    "**The current JSON will be removed if it still exists!**"
   ]
  },
  {
   "cell_type": "code",
   "execution_count": null,
   "id": "fde6ccd8-9e2c-49e6-b868-4e2a95d08767",
   "metadata": {},
   "outputs": [],
   "source": [
    "import requests\n",
    "import json\n",
    "\n",
    "endPoint = input(\"Enter runtime secret API endpoint:\")\n",
    "APIkey = input(\"Enter runtime secret API key:\")\n",
    "headers = {\n",
    "    \"accept\": \"application/json\",\n",
    "    \"GROCY-API-KEY\": APIkey}\n",
    "params = {\n",
    "    \"active\": 1,\n",
    "}\n",
    "\n",
    "r=requests.get(endPoint,headers=headers,params=params)\n",
    "if \"200\" in str(r):\n",
    "    print('Success')\n",
    "    resp = input('Save offline copy?')\n",
    "    if \"y\" in resp or \"Y\" in resp:\n",
    "        import os\n",
    "        if os.path.exists(\"grocyproducts.json\"):\n",
    "            record=open(\"grocyproducts.json\",mode=\"w\")\n",
    "        else:\n",
    "            record=open(\"grocyproducts.json\",mode=\"x\")\n",
    "\n",
    "        json.dump(r.json(),record)\n",
    "        record.close()\n",
    "        print(\"grocyproducts.json was saved\")"
   ]
  },
  {
   "cell_type": "markdown",
   "id": "ee7b09ea-c462-448b-ab61-10662dc3e84b",
   "metadata": {},
   "source": [
    "# Todo: \n",
    "Get data for aliases and replace technical values with readable values"
   ]
  },
  {
   "cell_type": "markdown",
   "id": "12801e77-9244-4066-87c0-ecb34fc9a10d",
   "metadata": {},
   "source": [
    "# Tabulate Data\n",
    "Input response to DataFrame & Display as an ITable"
   ]
  },
  {
   "cell_type": "code",
   "execution_count": null,
   "id": "50b6a186-0b3d-4ca1-afc5-0b8928e8489b",
   "metadata": {},
   "outputs": [],
   "source": [
    "import pandas\n",
    "import io\n",
    "from itables import init_notebook_mode\n",
    "from itables import show\n",
    "\n",
    "init_notebook_mode(all_interactive=True)\n",
    "rjson = r.json()\n",
    "show(pandas.DataFrame(rjson).reset_index(),buttons=[\"copyHtml5\", \"csvHtml5\", \"excelHtml5\"])"
   ]
  }
 ],
 "metadata": {
  "kernelspec": {
   "display_name": "Python 3 (ipykernel)",
   "language": "python",
   "name": "python3"
  },
  "language_info": {
   "codemirror_mode": {
    "name": "ipython",
    "version": 3
   },
   "file_extension": ".py",
   "mimetype": "text/x-python",
   "name": "python",
   "nbconvert_exporter": "python",
   "pygments_lexer": "ipython3",
   "version": "3.12.5"
  }
 },
 "nbformat": 4,
 "nbformat_minor": 5
}
