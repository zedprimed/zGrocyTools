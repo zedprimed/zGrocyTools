{
 "cells": [
  {
   "cell_type": "markdown",
   "id": "7967a707-2255-46e6-8ee2-9787955a0831",
   "metadata": {},
   "source": [
    "# Workflow to import Grocy product data\n",
    "1. Use requests module for HTTP activity\n",
    "2. API and secret recorded in local JSON\n",
    "4. Save results to a JSON in the Jupyter notebook scope if requested\n",
    "\n",
    "Now modularized in common!\n",
    "\n",
    "**The current JSON will be removed if it still exists!**"
   ]
  },
  {
   "cell_type": "code",
   "execution_count": null,
   "id": "fde6ccd8-9e2c-49e6-b868-4e2a95d08767",
   "metadata": {},
   "outputs": [],
   "source": [
    "import requests\n",
    "import json\n",
    "import common\n",
    "import os\n",
    "\n",
    "CONF = common.GrConf()\n",
    "productsCaller = common.GrGetAPI(CONF,'products')\n",
    "\n",
    "productsCaller.buildParam(\"active=1\")\n",
    "\n",
    "productsCaller.call()\n",
    "r=productsCaller.r\n",
    "if \"200\" in str(r):\n",
    "    print('Success')\n",
    "    #resp = input('Save offline copy?')\n",
    "    #if \"y\" in resp or \"Y\" in resp:        \n",
    "        #if os.path.exists(\"localgrocyproducts.json\"):\n",
    "            #record=open(\"localgrocyproducts.json\",mode=\"w\")\n",
    "        #else:\n",
    "            #record=open(\"localgrocyproducts.json\",mode=\"x\")\n",
    "\n",
    "        #json.dump(r.json(),record)\n",
    "        #record.close()\n",
    "        #print(\"grocyproducts.json was saved\")"
   ]
  },
  {
   "cell_type": "markdown",
   "id": "ddd7d254-4268-4a28-9fc2-165c48c1a3a4",
   "metadata": {},
   "source": [
    "# Mapping\n",
    "Loop through the relevant interfaces that provide names to IDs\n",
    "Todo: adapt this to also save the mapping locally for building mass uploads if needed"
   ]
  },
  {
   "cell_type": "code",
   "execution_count": null,
   "id": "15006e39-e468-42de-9d59-b4810a02fc28",
   "metadata": {},
   "outputs": [],
   "source": [
    "callThese = ['locations','shopping_locations','product_groups','quantity_units']\n",
    "columnMap = {'locations':['location_id','default_consume_location_id'],\n",
    "             'shopping_locations':['shopping_location_id'],\n",
    "             'product_groups':['product_group_id'],\n",
    "             'quantity_units':['qu_id_purchase','qu_id_stock','qu_id_consume','qu_id_price']}\n",
    "rjson = r.json()\n",
    "for a in callThese:\n",
    "\n",
    "    iterCaller = common.GrGetAPI(CONF,a)\n",
    "    iterCaller.buildParam(\"active=1\")\n",
    "    iterCaller.call()\n",
    "    if \"200\" not in str(iterCaller.r):\n",
    "        print(r+' API failure')\n",
    "\n",
    "\n",
    "# Join the API calls so far into one rjson master file\n",
    "\n",
    "    for x in rjson:\n",
    "        for y in iterCaller.r.json():\n",
    "                for z in range(len(columnMap[a])):\n",
    "                    #print(z)\n",
    "                    #print(columnMap[a])\n",
    "                    #print(columnMap[a][z])\n",
    "                    #print(x['location_id'])\n",
    "                    if x[columnMap[a][z]] == y['id']:\n",
    "                        x[columnMap[a][z]] = y['name']\n",
    "                        \n"
   ]
  },
  {
   "cell_type": "markdown",
   "id": "12801e77-9244-4066-87c0-ecb34fc9a10d",
   "metadata": {},
   "source": [
    "# Tabulate Data\n",
    "Input response to DataFrame & Display as an ITable"
   ]
  },
  {
   "cell_type": "code",
   "execution_count": null,
   "id": "524b1c47-dd39-4cb2-94fa-05c3a4bf9c97",
   "metadata": {},
   "outputs": [],
   "source": [
    "import pandas\n",
    "import io\n",
    "from itables import init_notebook_mode\n",
    "from itables import show\n",
    "\n",
    "init_notebook_mode(all_interactive=True)\n",
    "productsFrame = pandas.DataFrame(rjson)\n",
    "#filter=input('Enter query expression') \n",
    "#if filter != '':\n",
    "#    productsFrame.query(filter)\n",
    "show(pandas.DataFrame(rjson).reset_index(),buttons=[\"copyHtml5\", \"csvHtml5\", \"excelHtml5\"])"
   ]
  },
  {
   "cell_type": "code",
   "execution_count": null,
   "id": "d410deae-c359-4bc8-ac59-2cc2a145b6e4",
   "metadata": {},
   "outputs": [],
   "source": [
    "# filter by query example\n",
    "# use user input for column and value\n",
    "show(productsFrame.loc[productsFrame['name'] == 'Celery'],buttons=[\"copyHtml5\", \"csvHtml5\", \"excelHtml5\"])"
   ]
  },
  {
   "cell_type": "code",
   "execution_count": null,
   "id": "b80cb0a7-d66d-4ad2-afde-39fbd94808e4",
   "metadata": {},
   "outputs": [],
   "source": [
    "#filter by substring example\n",
    "#use user input for column and value\n",
    "show(productsFrame[productsFrame['name'].str.contains('ANY')],buttons=[\"copyHtml5\", \"csvHtml5\", \"excelHtml5\"])"
   ]
  }
 ],
 "metadata": {
  "kernelspec": {
   "display_name": "Python 3 (ipykernel)",
   "language": "python",
   "name": "python3"
  },
  "language_info": {
   "codemirror_mode": {
    "name": "ipython",
    "version": 3
   },
   "file_extension": ".py",
   "mimetype": "text/x-python",
   "name": "python",
   "nbconvert_exporter": "python",
   "pygments_lexer": "ipython3",
   "version": "3.12.5"
  }
 },
 "nbformat": 4,
 "nbformat_minor": 5
}
