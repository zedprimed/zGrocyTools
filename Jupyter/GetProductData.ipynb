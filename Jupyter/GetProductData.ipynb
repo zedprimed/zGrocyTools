{
 "cells": [
  {
   "cell_type": "markdown",
   "id": "9353f08f-f51c-425d-b074-616869e9f49b",
   "metadata": {},
   "source": [
    "# Init"
   ]
  },
  {
   "cell_type": "code",
   "execution_count": null,
   "id": "b39e688d-1dbd-4fe1-8016-4be96d81ccfb",
   "metadata": {},
   "outputs": [],
   "source": [
    "import common\n",
    "\n",
    "common.GrConf() #build common scope config\n",
    "productsCaller = common.GrGetAPI('Objects','products')\n",
    "productsCaller.buildParam(\"active=1\")"
   ]
  },
  {
   "cell_type": "markdown",
   "id": "7967a707-2255-46e6-8ee2-9787955a0831",
   "metadata": {
    "editable": true,
    "slideshow": {
     "slide_type": ""
    },
    "tags": []
   },
   "source": [
    "# Workflow to import Grocy product data\n",
    "Init gets everything ready for product calls. It'll call it next"
   ]
  },
  {
   "cell_type": "code",
   "execution_count": null,
   "id": "fde6ccd8-9e2c-49e6-b868-4e2a95d08767",
   "metadata": {
    "editable": true,
    "slideshow": {
     "slide_type": ""
    },
    "tags": []
   },
   "outputs": [],
   "source": [
    "productsCaller.get()\n",
    "r=productsCaller.r\n",
    "if not \"200\" in str(r):\n",
    "    print(f'Call failed :( Error:{str(r)}')\n",
    "else:\n",
    "    print('Success')"
   ]
  },
  {
   "cell_type": "markdown",
   "id": "3d9226eb-4448-44ee-8124-09bad035b9e2",
   "metadata": {
    "editable": true,
    "jp-MarkdownHeadingCollapsed": true,
    "slideshow": {
     "slide_type": ""
    },
    "tags": []
   },
   "source": [
    "# Save offline copy (limited to success)"
   ]
  },
  {
   "cell_type": "code",
   "execution_count": null,
   "id": "5cfc3ef0-3596-4a8e-b3d0-a0648dd121d3",
   "metadata": {
    "editable": true,
    "slideshow": {
     "slide_type": ""
    },
    "tags": []
   },
   "outputs": [],
   "source": [
    "if \"200\" in str(r):\n",
    "    resp = input('Confirm save offline copy?')\n",
    "    if \"y\" in resp or \"Y\" in resp:        \n",
    "        if os.path.exists(\"localgrocyproducts.json\"):\n",
    "            record=open(\"localgrocyproducts.json\",mode=\"w\")\n",
    "        else:\n",
    "            record=open(\"localgrocyproducts.json\",mode=\"x\")\n",
    "\n",
    "        json.dump(r.json(),record)\n",
    "        record.close()\n",
    "        print(\"localgrocyproducts.json was saved\")"
   ]
  },
  {
   "cell_type": "markdown",
   "id": "ddd7d254-4268-4a28-9fc2-165c48c1a3a4",
   "metadata": {},
   "source": [
    "# Mapping\n",
    "Loop through the relevant interfaces that provide names to IDs\n",
    "Todo: adapt this to also save the mapping locally for building mass uploads if needed"
   ]
  },
  {
   "cell_type": "code",
   "execution_count": null,
   "id": "15006e39-e468-42de-9d59-b4810a02fc28",
   "metadata": {},
   "outputs": [],
   "source": [
    "callThese = ['locations','shopping_locations','product_groups','quantity_units']\n",
    "columnMap = {'locations':['location_id','default_consume_location_id'],\n",
    "             'shopping_locations':['shopping_location_id'],\n",
    "             'product_groups':['product_group_id'],\n",
    "             'quantity_units':['qu_id_purchase','qu_id_stock','qu_id_consume','qu_id_price']}\n",
    "rjson = r.json()\n",
    "for a in callThese:\n",
    "\n",
    "    iterCaller = common.GrGetAPI('Objects',a)\n",
    "    iterCaller.buildParam(\"active=1\")\n",
    "    iterCaller.get()\n",
    "    if \"200\" not in str(iterCaller.r):\n",
    "        print(r+' API failure')\n",
    "\n",
    "\n",
    "# Join the API calls so far into one rjson master file\n",
    "\n",
    "    for x in rjson:\n",
    "        for y in iterCaller.r.json():\n",
    "                for z in range(len(columnMap[a])):\n",
    "                    #print(z)\n",
    "                    #print(columnMap[a])\n",
    "                    #print(columnMap[a][z])\n",
    "                    #print(x['location_id'])\n",
    "                    if x[columnMap[a][z]] == y['id']:\n",
    "                        x[columnMap[a][z]] = y['name']\n",
    "                        \n",
    "# Hard type certain problematic inferences\n",
    "# this probably ought to be a main function"
   ]
  },
  {
   "cell_type": "code",
   "execution_count": null,
   "id": "cd54f884-23eb-414a-94cf-19397dc35127",
   "metadata": {},
   "outputs": [],
   "source": [
    "# Ex data structures I was using before a DDIC\n",
    "#callThese = ['locations','shopping_locations','product_groups','quantity_units']\n",
    "#columnMap = {'locations':['location_id','default_consume_location_id'],\n",
    "#             'shopping_locations':['shopping_location_id'],\n",
    "#             'product_groups':['product_group_id'],\n",
    "#             'quantity_units':['qu_id_purchase','qu_id_stock','qu_id_consume','qu_id_price']}'''\n",
    "rjson = r.json()\n",
    "callThese = []\n",
    "columnMap = {}\n",
    "alias=common.CONF.build_alias(rjson)\n"
   ]
  },
  {
   "cell_type": "markdown",
   "id": "12801e77-9244-4066-87c0-ecb34fc9a10d",
   "metadata": {},
   "source": [
    "# Tabulate Data\n",
    "Input response to DataFrame & Display as an ITable"
   ]
  },
  {
   "cell_type": "code",
   "execution_count": null,
   "id": "efdd72c1-3008-43a7-bbab-d0ae3083bff4",
   "metadata": {},
   "outputs": [],
   "source": [
    "import pandas as pd\n",
    "import io\n",
    "from itables import init_notebook_mode\n",
    "from itables import show\n",
    "\n",
    "rjson = r.json()\n",
    "callThese = []\n",
    "columnMap = {}\n",
    "alias=common.CONF.build_alias(rjson)\n",
    "\n",
    "init_notebook_mode(all_interactive=True)\n",
    "productsFrame = pd.DataFrame(rjson)\n",
    "for x in alias:\n",
    "    #This typing probably goes away once I make hard typing come in\n",
    "    productsFrame[x] = productsFrame[x].astype('Int64')\n",
    "    productsFrame[x] = productsFrame[x].astype('str')\n",
    "    for y in alias[x]:\n",
    "        for z in y:\n",
    "            productsFrame.loc[productsFrame[x] == str(z), x] = str(y[z])\n",
    "show(productsFrame,buttons=[\"copyHtml5\", \"csvHtml5\", \"excelHtml5\"])"
   ]
  },
  {
   "cell_type": "code",
   "execution_count": null,
   "id": "d410deae-c359-4bc8-ac59-2cc2a145b6e4",
   "metadata": {},
   "outputs": [],
   "source": [
    "# filter by query example\n",
    "# use user input for column and value\n",
    "show(productsFrame.loc[productsFrame['product_group_id'] == 'Staples'],buttons=[\"copyHtml5\", \"csvHtml5\", \"excelHtml5\"])"
   ]
  },
  {
   "cell_type": "code",
   "execution_count": null,
   "id": "b80cb0a7-d66d-4ad2-afde-39fbd94808e4",
   "metadata": {},
   "outputs": [],
   "source": [
    "#filter by substring example\n",
    "#use user input for column and value\n",
    "show(productsFrame[productsFrame['name'].str.contains('ANY')],buttons=[\"copyHtml5\", \"csvHtml5\", \"excelHtml5\"])"
   ]
  },
  {
   "cell_type": "markdown",
   "id": "6f04618e-a575-4bc7-a824-4e041a9f2897",
   "metadata": {},
   "source": [
    "# Load to mass load spreadsheet\n",
    "Make any filterations in place in productsFrame, then call the next block to load the list into a mass put spreadsheet. Then call the mass put script"
   ]
  }
 ],
 "metadata": {
  "kernelspec": {
   "display_name": "Python 3 (ipykernel)",
   "language": "python",
   "name": "python3"
  },
  "language_info": {
   "codemirror_mode": {
    "name": "ipython",
    "version": 3
   },
   "file_extension": ".py",
   "mimetype": "text/x-python",
   "name": "python",
   "nbconvert_exporter": "python",
   "pygments_lexer": "ipython3",
   "version": "3.12.5"
  }
 },
 "nbformat": 4,
 "nbformat_minor": 5
}
