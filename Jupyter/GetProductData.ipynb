{
 "cells": [
  {
   "cell_type": "markdown",
   "id": "9353f08f-f51c-425d-b074-616869e9f49b",
   "metadata": {},
   "source": [
    "# Init"
   ]
  },
  {
   "cell_type": "code",
   "execution_count": null,
   "id": "b39e688d-1dbd-4fe1-8016-4be96d81ccfb",
   "metadata": {},
   "outputs": [],
   "source": [
    "import common\n",
    "\n",
    "common.GrConf() #build common scope config\n",
    "productsCaller = common.GrGetAPI('Objects','products')\n",
    "productsCaller.buildParam(\"active=1\")"
   ]
  },
  {
   "cell_type": "markdown",
   "id": "7967a707-2255-46e6-8ee2-9787955a0831",
   "metadata": {
    "editable": true,
    "slideshow": {
     "slide_type": ""
    },
    "tags": []
   },
   "source": [
    "# Workflow to import Grocy product data\n",
    "Init gets everything ready for product calls. It'll call it next"
   ]
  },
  {
   "cell_type": "code",
   "execution_count": null,
   "id": "fde6ccd8-9e2c-49e6-b868-4e2a95d08767",
   "metadata": {
    "editable": true,
    "slideshow": {
     "slide_type": ""
    },
    "tags": []
   },
   "outputs": [],
   "source": [
    "productsCaller.get()\n",
    "r=productsCaller.r\n",
    "if not \"200\" in str(r):\n",
    "    print(f'Call failed :( Error:{str(r)}')\n",
    "else:\n",
    "    print('Success')"
   ]
  },
  {
   "cell_type": "markdown",
   "id": "12801e77-9244-4066-87c0-ecb34fc9a10d",
   "metadata": {},
   "source": [
    "# Tabulate Data\n",
    "Input response to DataFrame & Display as an ITable"
   ]
  },
  {
   "cell_type": "code",
   "execution_count": null,
   "id": "52935356-ea5b-43cf-9a65-0e76de9d40c9",
   "metadata": {},
   "outputs": [],
   "source": [
    "import pandas as pd\n",
    "import io\n",
    "from itables import init_notebook_mode\n",
    "from itables import show\n",
    "\n",
    "rjson = r.json()\n",
    "callThese = []\n",
    "columnMap = {}\n",
    "alias=common.CONF.build_alias(rjson)\n",
    "boolean = common.CONF.build_bools(rjson)\n",
    "if \"userfields\" in rjson[0].keys():\n",
    "    for i in range(len(rjson)):\n",
    "        custfields = rjson[i].pop(\"userfields\")\n",
    "        for field in custfields:\n",
    "            rjson[i][field] = custfields[field]\n",
    "productsFrame = pd.DataFrame(rjson)\n",
    "for column in productsFrame.columns.values.tolist():\n",
    "    if column in alias.keys():\n",
    "        # there is an id alias mapping\n",
    "        # condition to string\n",
    "        # conditioning leaves a smell - string value <NA> which is not displayed and not recognized by isna\n",
    "        productsFrame[column] = productsFrame[column].astype('Int64')\n",
    "        productsFrame[column] = productsFrame[column].astype('str')\n",
    "        productsFrame[column] = productsFrame[column].fillna(\"\")\n",
    "        for definition in alias[column]:\n",
    "            for ident in definition:\n",
    "                productsFrame.loc[productsFrame[column] == str(ident), column] = str(definition[ident])\n",
    "    if column in boolean:\n",
    "        #map binary to bool\n",
    "        productsFrame[column] = productsFrame[column].astype('bool')\n",
    "\n",
    "init_notebook_mode(all_interactive=True)\n",
    "show(productsFrame,buttons=[\"copyHtml5\", \"csvHtml5\", \"excelHtml5\"])"
   ]
  },
  {
   "cell_type": "code",
   "execution_count": null,
   "id": "d410deae-c359-4bc8-ac59-2cc2a145b6e4",
   "metadata": {},
   "outputs": [],
   "source": [
    "# filter by query example\n",
    "# use user input for column and value\n",
    "# That <NA> smell is on display here\n",
    "show(productsFrame.loc[productsFrame['product_group_id'] == '<NA>'],buttons=[\"copyHtml5\", \"csvHtml5\", \"excelHtml5\"])\n",
    "dfbatchupload = productsFrame.loc[productsFrame['product_group_id'] == '<NA>']\n",
    "#hack for userfields. Probably should expand these in bootstrap based on whats currently created?\n",
    "#dfbatchupload.loc[:,'userfields'] = dfbatchupload['userfields'].astype('str')\n",
    "dfbatchupload = dfbatchupload.replace(\"<NA>\",\"\")"
   ]
  },
  {
   "cell_type": "code",
   "execution_count": null,
   "id": "b80cb0a7-d66d-4ad2-afde-39fbd94808e4",
   "metadata": {},
   "outputs": [],
   "source": [
    "#filter by substring example\n",
    "#use user input for column and value\n",
    "show(productsFrame[productsFrame['name'].str.contains('ANY')],buttons=[\"copyHtml5\", \"csvHtml5\", \"excelHtml5\"])"
   ]
  },
  {
   "cell_type": "markdown",
   "id": "6f04618e-a575-4bc7-a824-4e041a9f2897",
   "metadata": {},
   "source": [
    "# Load to mass load spreadsheet\n",
    "Make any filterations in place in productsFrame, name it dfbatchupload then call the next cell to load the list into a mass put spreadsheet. Then call the mass put script if you want to make a mass change to the results"
   ]
  },
  {
   "cell_type": "code",
   "execution_count": null,
   "id": "b118e0a1-c0e8-4e9b-9697-d048967ee431",
   "metadata": {},
   "outputs": [],
   "source": [
    "batchuploaddata = dfbatchupload.values.tolist()\n",
    "creds = common.GoogleOAuth()\n",
    "sheetname = 'products'\n",
    "spreadsheetId = common.CONF.sheets['BatchUpload']['spreadsheetId']\n",
    "#clear anything left in there\n",
    "clearLastPost = common.sheets_clear(creds,spreadsheetId,sheetname,'A3:ZZ1000')\n",
    "#add the results to the tab\n",
    "common.sheets_append(creds,spreadsheetId,sheetname,batchuploaddata,'A2')\n",
    "#optimize columns\n",
    "updater = common.GoBatchUpdate(creds,spreadsheetId)\n",
    "optistyle = common.GrStyleGuide('request_styles','optimize_columns')\n",
    "request = optistyle.guide\n",
    "request['autoResizeDimensions']['dimensions']['sheetId'] = common.CONF.sheets['BatchUpload']['sheets']['products']\n",
    "request['autoResizeDimensions']['dimensions']['endIndex'] = 100\n",
    "updater.addReq(request)\n",
    "#add request to bring the sheet forward\n",
    "request = {\"updateSheetProperties\": {\n",
    "        \"properties\": {\n",
    "            \"sheetId\": common.CONF.sheets['BatchUpload']['sheets']['products'],\n",
    "            \"index\":0\n",
    "        },\n",
    "        \"fields\": \"index\"\n",
    "}\n",
    "          }\n",
    "updater.addReq(request)\n",
    "updater.call()"
   ]
  },
  {
   "cell_type": "code",
   "execution_count": null,
   "id": "84fc628c-ffbc-419c-ad0e-0b853a310b44",
   "metadata": {},
   "outputs": [],
   "source": []
  }
 ],
 "metadata": {
  "kernelspec": {
   "display_name": "Python 3 (ipykernel)",
   "language": "python",
   "name": "python3"
  },
  "language_info": {
   "codemirror_mode": {
    "name": "ipython",
    "version": 3
   },
   "file_extension": ".py",
   "mimetype": "text/x-python",
   "name": "python",
   "nbconvert_exporter": "python",
   "pygments_lexer": "ipython3",
   "version": "3.12.5"
  }
 },
 "nbformat": 4,
 "nbformat_minor": 5
}
